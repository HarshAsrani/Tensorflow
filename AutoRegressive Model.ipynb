{
 "cells": [
  {
   "cell_type": "code",
   "execution_count": 1,
   "metadata": {},
   "outputs": [],
   "source": [
    "import tensorflow as tf"
   ]
  },
  {
   "cell_type": "code",
   "execution_count": 2,
   "metadata": {},
   "outputs": [],
   "source": [
    "from tensorflow.keras.layers import Input, Dense\n",
    "from tensorflow.keras.models import Model\n",
    "from tensorflow.keras.optimizers import Adam, SGD\n",
    "import numpy as np\n",
    "import pandas as pd\n",
    "import matplotlib.pyplot as plt"
   ]
  },
  {
   "cell_type": "code",
   "execution_count": 3,
   "metadata": {},
   "outputs": [
    {
     "data": {
      "text/plain": [
       "[<matplotlib.lines.Line2D at 0x27d6f2543c8>]"
      ]
     },
     "execution_count": 3,
     "metadata": {},
     "output_type": "execute_result"
    },
    {
     "data": {
      "image/png": "[encoded data removed]",
      "text/plain": [
       "<Figure size 432x288 with 1 Axes>"
      ]
     },
     "metadata": {
      "needs_background": "light"
     },
     "output_type": "display_data"
    }
   ],
   "source": [
    "series = np.sin(0.1*np.arange(200))\n",
    "plt.plot(series)"
   ]
  },
  {
   "cell_type": "code",
   "execution_count": 4,
   "metadata": {},
   "outputs": [
    {
     "name": "stdout",
     "output_type": "stream",
     "text": [
      "(190, 10)\n",
      "(190,)\n"
     ]
    }
   ],
   "source": [
    "T = 10\n",
    "X = []\n",
    "Y = []\n",
    "for t in range(len(series) - T):\n",
    "    x = series[t:t+T]\n",
    "    X.append(x)\n",
    "    y = series[t+T]\n",
    "    Y.append(y)\n",
    "X = np.array(X).reshape(-1,T)\n",
    "Y = np.array(Y)\n",
    "N = len(X)\n",
    "print(X.shape)\n",
    "print(Y.shape)"
   ]
  },
  {
   "cell_type": "code",
   "execution_count": 5,
   "metadata": {},
   "outputs": [
    {
     "name": "stdout",
     "output_type": "stream",
     "text": [
      "Train on 95 samples, validate on 95 samples\n",
      "Epoch 1/80\n",
      "95/95 [==============================] - 1s 7ms/sample - loss: 0.6666 - val_loss: 0.3501\n",
      "Epoch 2/80\n",
      "95/95 [==============================] - 0s 316us/sample - loss: 0.5132 - val_loss: 0.3822\n",
      "Epoch 3/80\n",
      "95/95 [==============================] - 0s 263us/sample - loss: 0.1876 - val_loss: 0.0651\n",
      "Epoch 4/80\n",
      "95/95 [==============================] - 0s 263us/sample - loss: 0.1631 - val_loss: 0.1734\n",
      "Epoch 5/80\n",
      "95/95 [==============================] - 0s 263us/sample - loss: 0.1619 - val_loss: 0.0115\n",
      "Epoch 6/80\n",
      "95/95 [==============================] - 0s 263us/sample - loss: 0.0176 - val_loss: 0.0575\n",
      "Epoch 7/80\n",
      "95/95 [==============================] - 0s 263us/sample - loss: 0.0983 - val_loss: 0.0441\n",
      "Epoch 8/80\n",
      "95/95 [==============================] - 0s 263us/sample - loss: 0.0335 - val_loss: 0.0175\n",
      "Epoch 9/80\n",
      "95/95 [==============================] - 0s 263us/sample - loss: 0.0283 - val_loss: 0.0539\n",
      "Epoch 10/80\n",
      "95/95 [==============================] - 0s 316us/sample - loss: 0.0385 - val_loss: 0.0047\n",
      "Epoch 11/80\n",
      "95/95 [==============================] - 0s 210us/sample - loss: 0.0073 - val_loss: 0.0234\n",
      "Epoch 12/80\n",
      "95/95 [==============================] - 0s 263us/sample - loss: 0.0239 - val_loss: 0.0150\n",
      "Epoch 13/80\n",
      "95/95 [==============================] - 0s 316us/sample - loss: 0.0060 - val_loss: 0.0029\n",
      "Epoch 14/80\n",
      "95/95 [==============================] - 0s 263us/sample - loss: 0.0088 - val_loss: 0.0086\n",
      "Epoch 15/80\n",
      "95/95 [==============================] - 0s 316us/sample - loss: 0.0049 - val_loss: 4.8000e-04\n",
      "Epoch 16/80\n",
      "95/95 [==============================] - 0s 210us/sample - loss: 0.0035 - val_loss: 0.0040\n",
      "Epoch 17/80\n",
      "95/95 [==============================] - 0s 278us/sample - loss: 0.0040 - val_loss: 2.5795e-04\n",
      "Epoch 18/80\n",
      "95/95 [==============================] - 0s 316us/sample - loss: 0.0011 - val_loss: 0.0026\n",
      "Epoch 19/80\n",
      "95/95 [==============================] - 0s 240us/sample - loss: 0.0026 - val_loss: 5.2204e-04\n",
      "Epoch 20/80\n",
      "95/95 [==============================] - 0s 263us/sample - loss: 7.8088e-04 - val_loss: 0.0024\n",
      "Epoch 21/80\n",
      "95/95 [==============================] - 0s 316us/sample - loss: 0.0016 - val_loss: 2.9450e-04\n",
      "Epoch 22/80\n",
      "95/95 [==============================] - 0s 210us/sample - loss: 1.8932e-04 - val_loss: 9.2168e-04\n",
      "Epoch 23/80\n",
      "95/95 [==============================] - 0s 263us/sample - loss: 8.3387e-04 - val_loss: 3.0959e-04\n",
      "Epoch 24/80\n",
      "95/95 [==============================] - 0s 316us/sample - loss: 2.0474e-04 - val_loss: 3.4523e-04\n",
      "Epoch 25/80\n",
      "95/95 [==============================] - 0s 210us/sample - loss: 4.3405e-04 - val_loss: 7.1462e-05\n",
      "Epoch 26/80\n",
      "95/95 [==============================] - 0s 277us/sample - loss: 8.6232e-05 - val_loss: 1.9402e-04\n",
      "Epoch 27/80\n",
      "95/95 [==============================] - 0s 263us/sample - loss: 2.3250e-04 - val_loss: 2.8232e-05\n",
      "Epoch 28/80\n",
      "95/95 [==============================] - 0s 242us/sample - loss: 4.5497e-05 - val_loss: 1.3475e-04\n",
      "Epoch 29/80\n",
      "95/95 [==============================] - 0s 316us/sample - loss: 1.0741e-04 - val_loss: 6.0464e-06\n",
      "Epoch 30/80\n",
      "95/95 [==============================] - 0s 316us/sample - loss: 2.6686e-05 - val_loss: 7.4509e-05\n",
      "Epoch 31/80\n",
      "95/95 [==============================] - 0s 263us/sample - loss: 4.2042e-05 - val_loss: 1.1200e-06\n",
      "Epoch 32/80\n",
      "95/95 [==============================] - 0s 263us/sample - loss: 1.7267e-05 - val_loss: 2.8125e-05\n",
      "Epoch 33/80\n",
      "95/95 [==============================] - 0s 316us/sample - loss: 1.5128e-05 - val_loss: 5.0908e-06\n",
      "Epoch 34/80\n",
      "95/95 [==============================] - 0s 316us/sample - loss: 1.5592e-05 - val_loss: 1.1436e-05\n",
      "Epoch 35/80\n",
      "95/95 [==============================] - 0s 210us/sample - loss: 8.4276e-06 - val_loss: 8.5158e-06\n",
      "Epoch 36/80\n",
      "95/95 [==============================] - 0s 315us/sample - loss: 1.1800e-05 - val_loss: 2.2460e-06\n",
      "Epoch 37/80\n",
      "95/95 [==============================] - 0s 316us/sample - loss: 2.4645e-06 - val_loss: 8.1602e-06\n",
      "Epoch 38/80\n",
      "95/95 [==============================] - 0s 368us/sample - loss: 6.3467e-06 - val_loss: 3.6507e-07\n",
      "Epoch 39/80\n",
      "95/95 [==============================] - 0s 368us/sample - loss: 1.7667e-06 - val_loss: 6.3304e-06\n",
      "Epoch 40/80\n",
      "95/95 [==============================] - 0s 263us/sample - loss: 3.9471e-06 - val_loss: 3.6978e-07\n",
      "Epoch 41/80\n",
      "95/95 [==============================] - 0s 210us/sample - loss: 1.8608e-06 - val_loss: 2.3024e-06\n",
      "Epoch 42/80\n",
      "95/95 [==============================] - 0s 316us/sample - loss: 1.3627e-06 - val_loss: 5.9516e-07\n",
      "Epoch 43/80\n",
      "95/95 [==============================] - 0s 368us/sample - loss: 1.2829e-06 - val_loss: 4.1888e-07\n",
      "Epoch 44/80\n",
      "95/95 [==============================] - 0s 263us/sample - loss: 3.2361e-07 - val_loss: 7.9285e-07\n",
      "Epoch 45/80\n",
      "95/95 [==============================] - 0s 263us/sample - loss: 7.0783e-07 - val_loss: 7.8290e-08\n",
      "Epoch 46/80\n",
      "95/95 [==============================] - 0s 263us/sample - loss: 2.4708e-07 - val_loss: 6.7467e-07\n",
      "Epoch 47/80\n",
      "95/95 [==============================] - 0s 316us/sample - loss: 3.2495e-07 - val_loss: 8.9707e-08\n",
      "Epoch 48/80\n",
      "95/95 [==============================] - 0s 225us/sample - loss: 2.4963e-07 - val_loss: 1.7249e-07\n",
      "Epoch 49/80\n",
      "95/95 [==============================] - 0s 263us/sample - loss: 8.1730e-08 - val_loss: 1.2611e-07\n",
      "Epoch 50/80\n",
      "95/95 [==============================] - 0s 263us/sample - loss: 1.8015e-07 - val_loss: 5.6143e-09\n",
      "Epoch 51/80\n",
      "95/95 [==============================] - 0s 263us/sample - loss: 6.2644e-08 - val_loss: 1.0765e-07\n",
      "Epoch 52/80\n",
      "95/95 [==============================] - 0s 158us/sample - loss: 6.9991e-08 - val_loss: 5.0308e-08\n",
      "Epoch 53/80\n",
      "95/95 [==============================] - 0s 263us/sample - loss: 7.4609e-08 - val_loss: 2.5322e-08\n",
      "Epoch 54/80\n",
      "95/95 [==============================] - 0s 263us/sample - loss: 2.0565e-08 - val_loss: 7.7503e-08\n",
      "Epoch 55/80\n",
      "95/95 [==============================] - 0s 210us/sample - loss: 4.8364e-08 - val_loss: 3.8324e-09\n",
      "Epoch 56/80\n",
      "95/95 [==============================] - 0s 210us/sample - loss: 2.6054e-08 - val_loss: 2.0461e-08\n",
      "Epoch 57/80\n",
      "95/95 [==============================] - 0s 210us/sample - loss: 1.3024e-08 - val_loss: 2.2364e-08\n",
      "Epoch 58/80\n",
      "95/95 [==============================] - 0s 263us/sample - loss: 2.8315e-08 - val_loss: 3.6920e-09\n",
      "Epoch 59/80\n",
      "95/95 [==============================] - 0s 210us/sample - loss: 1.0339e-08 - val_loss: 1.9666e-08\n",
      "Epoch 60/80\n",
      "95/95 [==============================] - 0s 210us/sample - loss: 9.4217e-09 - val_loss: 8.8777e-09\n",
      "Epoch 61/80\n",
      "95/95 [==============================] - 0s 263us/sample - loss: 1.1627e-08 - val_loss: 2.7493e-09\n",
      "Epoch 62/80\n",
      "95/95 [==============================] - 0s 263us/sample - loss: 3.0954e-09 - val_loss: 8.1183e-09\n",
      "Epoch 63/80\n",
      "95/95 [==============================] - 0s 210us/sample - loss: 5.3108e-09 - val_loss: 1.7645e-09\n",
      "Epoch 64/80\n",
      "95/95 [==============================] - 0s 263us/sample - loss: 4.9168e-09 - val_loss: 8.9878e-10\n",
      "Epoch 65/80\n",
      "95/95 [==============================] - 0s 263us/sample - loss: 1.9209e-09 - val_loss: 4.3836e-09\n",
      "Epoch 66/80\n",
      "95/95 [==============================] - 0s 210us/sample - loss: 2.6583e-09 - val_loss: 1.7625e-09\n",
      "Epoch 67/80\n",
      "95/95 [==============================] - 0s 263us/sample - loss: 2.3212e-09 - val_loss: 6.0600e-10\n",
      "Epoch 68/80\n",
      "95/95 [==============================] - 0s 263us/sample - loss: 7.8689e-10 - val_loss: 1.5997e-09\n",
      "Epoch 69/80\n",
      "95/95 [==============================] - 0s 263us/sample - loss: 7.8316e-10 - val_loss: 3.6084e-10\n",
      "Epoch 70/80\n",
      "95/95 [==============================] - 0s 263us/sample - loss: 7.7089e-10 - val_loss: 1.2244e-10\n",
      "Epoch 71/80\n",
      "95/95 [==============================] - 0s 263us/sample - loss: 2.6087e-10 - val_loss: 4.5646e-10\n",
      "Epoch 72/80\n",
      "95/95 [==============================] - 0s 263us/sample - loss: 2.4314e-10 - val_loss: 2.2615e-10\n",
      "Epoch 73/80\n",
      "95/95 [==============================] - 0s 263us/sample - loss: 2.5772e-10 - val_loss: 1.9261e-11\n",
      "Epoch 74/80\n",
      "95/95 [==============================] - 0s 263us/sample - loss: 1.0290e-10 - val_loss: 1.9109e-10\n",
      "Epoch 75/80\n",
      "95/95 [==============================] - 0s 263us/sample - loss: 9.4846e-11 - val_loss: 9.5269e-11\n"
     ]
    },
    {
     "name": "stdout",
     "output_type": "stream",
     "text": [
      "Epoch 76/80\n",
      "95/95 [==============================] - 0s 263us/sample - loss: 1.2580e-10 - val_loss: 3.7224e-12\n",
      "Epoch 77/80\n",
      "95/95 [==============================] - 0s 263us/sample - loss: 6.2272e-11 - val_loss: 5.5251e-11\n",
      "Epoch 78/80\n",
      "95/95 [==============================] - 0s 210us/sample - loss: 4.6180e-11 - val_loss: 7.9369e-11\n",
      "Epoch 79/80\n",
      "95/95 [==============================] - 0s 210us/sample - loss: 5.5954e-11 - val_loss: 2.0209e-11\n",
      "Epoch 80/80\n",
      "95/95 [==============================] - 0s 210us/sample - loss: 5.0075e-11 - val_loss: 2.1297e-11\n"
     ]
    }
   ],
   "source": [
    "i = Input(shape=(T,))\n",
    "x = Dense(1)(i)\n",
    "model = Model(i,x)\n",
    "model.compile(loss='mse',\n",
    "              optimizer=Adam(lr=0.1))\n",
    "r = model.fit(X[:-N//2], Y[:-N//2], epochs=80, validation_data=(X[-N//2:], Y[-N//2:]))"
   ]
  },
  {
   "cell_type": "code",
   "execution_count": 7,
   "metadata": {},
   "outputs": [
    {
     "data": {
      "text/plain": [
       "<matplotlib.legend.Legend at 0x27da0b4e508>"
      ]
     },
     "execution_count": 7,
     "metadata": {},
     "output_type": "execute_result"
    },
    {
     "data": {
      "image/png": "[encoded data removed]",
      "text/plain": [
       "<Figure size 432x288 with 1 Axes>"
      ]
     },
     "metadata": {
      "needs_background": "light"
     },
     "output_type": "display_data"
    }
   ],
   "source": [
    "plt.plot(r.history['loss'], label='loss')\n",
    "plt.plot(r.history['val_loss'], label='val_loss')\n",
    "plt.legend()"
   ]
  },
  {
   "cell_type": "code",
   "execution_count": 8,
   "metadata": {},
   "outputs": [],
   "source": [
    "validation_target = Y[-N//2:]\n",
    "validation_predictions = []\n",
    "last_x = X[-N//2]\n",
    "while len(validation_predictions) < len(validation_target):\n",
    "    p = model.predict(last_x.reshape(1,-1))[0,0]\n",
    "    \n",
    "    validation_predictions.append(p)\n",
    "    \n",
    "    last_x = np.roll(last_x,-1)\n",
    "    last_x[-1] = p"
   ]
  },
  {
   "cell_type": "code",
   "execution_count": 9,
   "metadata": {},
   "outputs": [
    {
     "data": {
      "text/plain": [
       "<matplotlib.legend.Legend at 0x27da0abbfc8>"
      ]
     },
     "execution_count": 9,
     "metadata": {},
     "output_type": "execute_result"
    },
    {
     "data": {
      "image/png": "[encoded data removed]",
      "text/plain": [
       "<Figure size 432x288 with 1 Axes>"
      ]
     },
     "metadata": {
      "needs_background": "light"
     },
     "output_type": "display_data"
    }
   ],
   "source": [
    "plt.plot(validation_target, label='validation_target')\n",
    "plt.plot(validation_predictions, label='validation_predictions')\n",
    "plt.legend()"
   ]
  },
  {
   "cell_type": "code",
   "execution_count": null,
   "metadata": {},
   "outputs": [],
   "source": []
  }
 ],
 "metadata": {
  "kernelspec": {
   "display_name": "Python 3",
   "language": "python",
   "name": "python3"
  },
  "language_info": {
   "codemirror_mode": {
    "name": "ipython",
    "version": 3
   },
   "file_extension": ".py",
   "mimetype": "text/x-python",
   "name": "python",
   "nbconvert_exporter": "python",
   "pygments_lexer": "ipython3",
   "version": "3.7.7"
  }
 },
 "nbformat": 4,
 "nbformat_minor": 4
}
